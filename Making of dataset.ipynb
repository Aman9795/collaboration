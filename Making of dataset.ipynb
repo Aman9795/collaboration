{
 "cells": [
  {
   "cell_type": "code",
   "execution_count": 1,
   "metadata": {},
   "outputs": [],
   "source": [
    "import pandas as pd\n",
    "import numpy as np"
   ]
  },
  {
   "cell_type": "code",
   "execution_count": 2,
   "metadata": {},
   "outputs": [],
   "source": [
    "rating=pd.read_csv('rating_final.csv')\n",
    "product=pd.read_csv('baby_products1.csv')\n",
    "rating.drop(['placeID', 'rating', 'food_rating', 'service_rating'], axis=1, inplace=True)\n",
    "df = pd.DataFrame(columns=['User_id','Product','Search'])"
   ]
  },
  {
   "cell_type": "code",
   "execution_count": 3,
   "metadata": {},
   "outputs": [],
   "source": [
    "df['User_id']= rating['userID']\n",
    "df['Product']= product['Products']\n",
    "df['Search'] = df['Search'].replace(np.nan, ' for the baby', regex=True)"
   ]
  },
  {
   "cell_type": "code",
   "execution_count": 4,
   "metadata": {},
   "outputs": [],
   "source": [
    "df[\"Product_search\"] = df[\"Product\"].map(str) + df[\"Search\"]"
   ]
  },
  {
   "cell_type": "code",
   "execution_count": 5,
   "metadata": {},
   "outputs": [
    {
     "name": "stdout",
     "output_type": "stream",
     "text": [
      "  User_id      Product         Search            Product_search\n",
      "0   U1077      shampoo   for the baby      shampoo for the baby\n",
      "1   U1077        Cream   for the baby        Cream for the baby\n",
      "2   U1077  Body lotion   for the baby  Body lotion for the baby\n",
      "3   U1077     Hair oil   for the baby     Hair oil for the baby\n",
      "4   U1068     Body oil   for the baby     Body oil for the baby\n",
      "(1161, 4)\n",
      "      Products\n",
      "0      shampoo\n",
      "1        Cream\n",
      "2  Body lotion\n",
      "3     Hair oil\n",
      "4     Body oil\n"
     ]
    }
   ],
   "source": [
    "print(df.head())\n",
    "print(df.shape)\n",
    "product.columns = ['Products']\n",
    "print(product.head())"
   ]
  },
  {
   "cell_type": "code",
   "execution_count": 6,
   "metadata": {},
   "outputs": [],
   "source": [
    "df.drop(['Product','Search'], axis=1, inplace=True)"
   ]
  },
  {
   "cell_type": "code",
   "execution_count": 7,
   "metadata": {},
   "outputs": [
    {
     "name": "stdout",
     "output_type": "stream",
     "text": [
      "Index(['User_id', 'Product_search'], dtype='object')\n",
      "   User_id               Product_search\n",
      "0    U1077         shampoo for the baby\n",
      "1    U1077           Cream for the baby\n",
      "2    U1077     Body lotion for the baby\n",
      "3    U1077        Hair oil for the baby\n",
      "4    U1068        Body oil for the baby\n",
      "5    U1068          Diaper for the baby\n",
      "6    U1068        Bath tub for the baby\n",
      "7    U1068   Nail clippers for the baby\n",
      "8    U1068    Slipping bag for the baby\n",
      "9    U1067     Car seaters for the baby\n",
      "10   U1067           wipes for the baby\n",
      "11   U1067         Bottles for the baby\n",
      "12   U1067  Hand sanitizer for the baby\n",
      "13   U1067        Pacifier for the baby\n",
      "14   U1067         Teether for the baby\n",
      "15   U1103      Sippy cups for the baby\n",
      "16   U1103         Tissues for the baby\n",
      "17   U1103            Toys for the baby\n",
      "18   U1103             Hat for the baby\n",
      "19   U1103       Sunscreen for the baby\n"
     ]
    }
   ],
   "source": [
    "print(df.columns)\n",
    "print(df.head(20))"
   ]
  },
  {
   "cell_type": "code",
   "execution_count": 8,
   "metadata": {},
   "outputs": [],
   "source": [
    "#df.to_csv('Search.csv',index=False)"
   ]
  },
  {
   "cell_type": "code",
   "execution_count": 9,
   "metadata": {},
   "outputs": [],
   "source": [
    "df.columns = ['User_id','Search']"
   ]
  },
  {
   "cell_type": "code",
   "execution_count": 10,
   "metadata": {},
   "outputs": [
    {
     "data": {
      "text/html": [
       "<div>\n",
       "<style scoped>\n",
       "    .dataframe tbody tr th:only-of-type {\n",
       "        vertical-align: middle;\n",
       "    }\n",
       "\n",
       "    .dataframe tbody tr th {\n",
       "        vertical-align: top;\n",
       "    }\n",
       "\n",
       "    .dataframe thead th {\n",
       "        text-align: right;\n",
       "    }\n",
       "</style>\n",
       "<table border=\"1\" class=\"dataframe\">\n",
       "  <thead>\n",
       "    <tr style=\"text-align: right;\">\n",
       "      <th></th>\n",
       "      <th>User_id</th>\n",
       "      <th>Search</th>\n",
       "    </tr>\n",
       "  </thead>\n",
       "  <tbody>\n",
       "    <tr>\n",
       "      <th>0</th>\n",
       "      <td>U1077</td>\n",
       "      <td>shampoo for the baby</td>\n",
       "    </tr>\n",
       "    <tr>\n",
       "      <th>1</th>\n",
       "      <td>U1077</td>\n",
       "      <td>Cream for the baby</td>\n",
       "    </tr>\n",
       "    <tr>\n",
       "      <th>2</th>\n",
       "      <td>U1077</td>\n",
       "      <td>Body lotion for the baby</td>\n",
       "    </tr>\n",
       "    <tr>\n",
       "      <th>3</th>\n",
       "      <td>U1077</td>\n",
       "      <td>Hair oil for the baby</td>\n",
       "    </tr>\n",
       "    <tr>\n",
       "      <th>4</th>\n",
       "      <td>U1068</td>\n",
       "      <td>Body oil for the baby</td>\n",
       "    </tr>\n",
       "  </tbody>\n",
       "</table>\n",
       "</div>"
      ],
      "text/plain": [
       "  User_id                    Search\n",
       "0   U1077      shampoo for the baby\n",
       "1   U1077        Cream for the baby\n",
       "2   U1077  Body lotion for the baby\n",
       "3   U1077     Hair oil for the baby\n",
       "4   U1068     Body oil for the baby"
      ]
     },
     "execution_count": 10,
     "metadata": {},
     "output_type": "execute_result"
    }
   ],
   "source": [
    "df.head()"
   ]
  },
  {
   "cell_type": "code",
   "execution_count": 11,
   "metadata": {},
   "outputs": [],
   "source": [
    "#df.to_csv('Search.csv',index=False)\n",
    "#product.to_csv('product.csv',index=False)"
   ]
  },
  {
   "cell_type": "code",
   "execution_count": null,
   "metadata": {},
   "outputs": [],
   "source": []
  },
  {
   "cell_type": "code",
   "execution_count": null,
   "metadata": {},
   "outputs": [],
   "source": []
  }
 ],
 "metadata": {
  "kernelspec": {
   "display_name": "Python 3",
   "language": "python",
   "name": "python3"
  },
  "language_info": {
   "codemirror_mode": {
    "name": "ipython",
    "version": 3
   },
   "file_extension": ".py",
   "mimetype": "text/x-python",
   "name": "python",
   "nbconvert_exporter": "python",
   "pygments_lexer": "ipython3",
   "version": "3.7.2"
  }
 },
 "nbformat": 4,
 "nbformat_minor": 2
}
